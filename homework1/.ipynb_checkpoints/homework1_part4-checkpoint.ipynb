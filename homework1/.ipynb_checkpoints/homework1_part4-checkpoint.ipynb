{
 "cells": [
  {
   "cell_type": "markdown",
   "metadata": {},
   "source": [
    "# PART FOUR\n",
    "\n",
    "Take a matplotlib bar chart from any data set we've worked with (including the scrabble or NBA data) and use Illustrator to make it look a little bit nicer. Whatever \"nicer\" might mean."
   ]
  },
  {
   "cell_type": "code",
   "execution_count": 1,
   "metadata": {
    "collapsed": false
   },
   "outputs": [
    {
     "name": "stderr",
     "output_type": "stream",
     "text": [
      "/Users/apple/.virtualenvs/data-analysis/lib/python3.5/site-packages/matplotlib/__init__.py:1035: UserWarning: Duplicate key in file \"/Users/apple/.matplotlib/matplotlibrc\", line #2\n",
      "  (fname, cnt))\n"
     ]
    }
   ],
   "source": [
    "import pandas as pd\n",
    "import matplotlib.pyplot as plt\n",
    "import numpy as np\n",
    "%matplotlib inline\n",
    "\n",
    "import matplotlib\n",
    "matplotlib.rcParams['pdf.fonttype']=42"
   ]
  },
  {
   "cell_type": "code",
   "execution_count": 2,
   "metadata": {
    "collapsed": false
   },
   "outputs": [
    {
     "data": {
      "text/html": [
       "<div>\n",
       "<table border=\"1\" class=\"dataframe\">\n",
       "  <thead>\n",
       "    <tr style=\"text-align: right;\">\n",
       "      <th></th>\n",
       "      <th>Player</th>\n",
       "      <th>TEAM_x</th>\n",
       "      <th>AGE</th>\n",
       "      <th>GP</th>\n",
       "      <th>W</th>\n",
       "      <th>L</th>\n",
       "      <th>MIN</th>\n",
       "      <th>FGM</th>\n",
       "      <th>FGA</th>\n",
       "      <th>FG%</th>\n",
       "      <th>...</th>\n",
       "      <th>BLK</th>\n",
       "      <th>PF</th>\n",
       "      <th>DD2</th>\n",
       "      <th>TD3</th>\n",
       "      <th>PTS</th>\n",
       "      <th>RK</th>\n",
       "      <th>NAME</th>\n",
       "      <th>POS</th>\n",
       "      <th>TEAM_y</th>\n",
       "      <th>SALARY</th>\n",
       "    </tr>\n",
       "  </thead>\n",
       "  <tbody>\n",
       "    <tr>\n",
       "      <th>0</th>\n",
       "      <td>Stephen Curry</td>\n",
       "      <td>Golden State Warriors</td>\n",
       "      <td>28</td>\n",
       "      <td>79</td>\n",
       "      <td>71</td>\n",
       "      <td>8</td>\n",
       "      <td>34.2</td>\n",
       "      <td>10.2</td>\n",
       "      <td>20.2</td>\n",
       "      <td>50.4</td>\n",
       "      <td>...</td>\n",
       "      <td>0.2</td>\n",
       "      <td>2.0</td>\n",
       "      <td>15</td>\n",
       "      <td>2</td>\n",
       "      <td>30.1</td>\n",
       "      <td>68</td>\n",
       "      <td>Stephen Curry</td>\n",
       "      <td>PG</td>\n",
       "      <td>Golden State Warriors</td>\n",
       "      <td>12112359</td>\n",
       "    </tr>\n",
       "    <tr>\n",
       "      <th>1</th>\n",
       "      <td>DeMarcus Cousins</td>\n",
       "      <td>Sacramento Kings</td>\n",
       "      <td>25</td>\n",
       "      <td>65</td>\n",
       "      <td>29</td>\n",
       "      <td>36</td>\n",
       "      <td>34.6</td>\n",
       "      <td>9.2</td>\n",
       "      <td>20.5</td>\n",
       "      <td>45.1</td>\n",
       "      <td>...</td>\n",
       "      <td>1.4</td>\n",
       "      <td>3.6</td>\n",
       "      <td>47</td>\n",
       "      <td>1</td>\n",
       "      <td>26.9</td>\n",
       "      <td>35</td>\n",
       "      <td>DeMarcus Cousins</td>\n",
       "      <td>C</td>\n",
       "      <td>Sacramento Kings</td>\n",
       "      <td>16957900</td>\n",
       "    </tr>\n",
       "    <tr>\n",
       "      <th>2</th>\n",
       "      <td>Damian Lillard</td>\n",
       "      <td>Portland Trail Blazers</td>\n",
       "      <td>25</td>\n",
       "      <td>75</td>\n",
       "      <td>40</td>\n",
       "      <td>35</td>\n",
       "      <td>35.7</td>\n",
       "      <td>8.2</td>\n",
       "      <td>19.7</td>\n",
       "      <td>41.9</td>\n",
       "      <td>...</td>\n",
       "      <td>0.4</td>\n",
       "      <td>2.2</td>\n",
       "      <td>15</td>\n",
       "      <td>0</td>\n",
       "      <td>25.1</td>\n",
       "      <td>4</td>\n",
       "      <td>Damian Lillard</td>\n",
       "      <td>PG</td>\n",
       "      <td>Portland Trail Blazers</td>\n",
       "      <td>24328425</td>\n",
       "    </tr>\n",
       "    <tr>\n",
       "      <th>3</th>\n",
       "      <td>Anthony Davis</td>\n",
       "      <td>New Orleans Pelicans</td>\n",
       "      <td>23</td>\n",
       "      <td>61</td>\n",
       "      <td>24</td>\n",
       "      <td>37</td>\n",
       "      <td>35.5</td>\n",
       "      <td>9.2</td>\n",
       "      <td>18.6</td>\n",
       "      <td>49.3</td>\n",
       "      <td>...</td>\n",
       "      <td>2.0</td>\n",
       "      <td>2.4</td>\n",
       "      <td>36</td>\n",
       "      <td>0</td>\n",
       "      <td>24.3</td>\n",
       "      <td>11</td>\n",
       "      <td>Anthony Davis</td>\n",
       "      <td>PF</td>\n",
       "      <td>New Orleans Pelicans</td>\n",
       "      <td>22116750</td>\n",
       "    </tr>\n",
       "    <tr>\n",
       "      <th>4</th>\n",
       "      <td>Russell Westbrook</td>\n",
       "      <td>Oklahoma City Thunder</td>\n",
       "      <td>27</td>\n",
       "      <td>80</td>\n",
       "      <td>55</td>\n",
       "      <td>25</td>\n",
       "      <td>34.4</td>\n",
       "      <td>8.2</td>\n",
       "      <td>18.1</td>\n",
       "      <td>45.4</td>\n",
       "      <td>...</td>\n",
       "      <td>0.3</td>\n",
       "      <td>2.5</td>\n",
       "      <td>54</td>\n",
       "      <td>18</td>\n",
       "      <td>23.5</td>\n",
       "      <td>24</td>\n",
       "      <td>Russell Westbrook</td>\n",
       "      <td>PG</td>\n",
       "      <td>Oklahoma City Thunder</td>\n",
       "      <td>17769374</td>\n",
       "    </tr>\n",
       "  </tbody>\n",
       "</table>\n",
       "<p>5 rows × 32 columns</p>\n",
       "</div>"
      ],
      "text/plain": [
       "              Player                  TEAM_x  AGE  GP   W   L   MIN   FGM  \\\n",
       "0      Stephen Curry   Golden State Warriors   28  79  71   8  34.2  10.2   \n",
       "1   DeMarcus Cousins        Sacramento Kings   25  65  29  36  34.6   9.2   \n",
       "2     Damian Lillard  Portland Trail Blazers   25  75  40  35  35.7   8.2   \n",
       "3      Anthony Davis    New Orleans Pelicans   23  61  24  37  35.5   9.2   \n",
       "4  Russell Westbrook   Oklahoma City Thunder   27  80  55  25  34.4   8.2   \n",
       "\n",
       "    FGA   FG%    ...     BLK   PF  DD2  TD3   PTS  RK               NAME  POS  \\\n",
       "0  20.2  50.4    ...     0.2  2.0   15    2  30.1  68      Stephen Curry   PG   \n",
       "1  20.5  45.1    ...     1.4  3.6   47    1  26.9  35   DeMarcus Cousins    C   \n",
       "2  19.7  41.9    ...     0.4  2.2   15    0  25.1   4     Damian Lillard   PG   \n",
       "3  18.6  49.3    ...     2.0  2.4   36    0  24.3  11      Anthony Davis   PF   \n",
       "4  18.1  45.4    ...     0.3  2.5   54   18  23.5  24  Russell Westbrook   PG   \n",
       "\n",
       "                   TEAM_y    SALARY  \n",
       "0   Golden State Warriors  12112359  \n",
       "1        Sacramento Kings  16957900  \n",
       "2  Portland Trail Blazers  24328425  \n",
       "3    New Orleans Pelicans  22116750  \n",
       "4   Oklahoma City Thunder  17769374  \n",
       "\n",
       "[5 rows x 32 columns]"
      ]
     },
     "execution_count": 2,
     "metadata": {},
     "output_type": "execute_result"
    }
   ],
   "source": [
    "performance_df = pd.read_excel(\"NBA stats.xlsx\", sheetname=\"Player performance\")\n",
    "salary_df = pd.read_excel(\"NBA stats.xlsx\", sheetname=\"2016-2017 Salaries\")\n",
    "df = performance_df.merge(salary_df, left_on='Player', right_on='NAME')\n",
    "df.head()"
   ]
  },
  {
   "cell_type": "code",
   "execution_count": 33,
   "metadata": {
    "collapsed": false
   },
   "outputs": [
    {
     "data": {
      "text/plain": [
       "TEAM\n",
       "Cleveland Cavaliers     10023465\n",
       "San Antonio Spurs        9337224\n",
       "Chicago Bulls            8316307\n",
       "New Orleans Pelicans     8267049\n",
       "Memphis Grizzlies        8085612\n",
       "Name: SALARY, dtype: int64"
      ]
     },
     "execution_count": 33,
     "metadata": {},
     "output_type": "execute_result"
    }
   ],
   "source": [
    "salary_df.groupby('TEAM')['SALARY'].mean().sort_values(ascending=False).head(5)"
   ]
  },
  {
   "cell_type": "code",
   "execution_count": 32,
   "metadata": {
    "collapsed": false
   },
   "outputs": [
    {
     "data": {
      "text/plain": [
       "<matplotlib.axes._subplots.AxesSubplot at 0x11439deb8>"
      ]
     },
     "execution_count": 32,
     "metadata": {},
     "output_type": "execute_result"
    },
    {
     "data": {
      "image/png": "[encoded data removed]",
      "text/plain": [
       "<matplotlib.figure.Figure at 0x1144930f0>"
      ]
     },
     "metadata": {},
     "output_type": "display_data"
    }
   ],
   "source": [
    "salary_df.groupby('TEAM')['SALARY'].mean().sort_values(ascending=False).head(5).plot(kind='barh')"
   ]
  },
  {
   "cell_type": "code",
   "execution_count": null,
   "metadata": {
    "collapsed": true
   },
   "outputs": [],
   "source": []
  }
 ],
 "metadata": {
  "kernelspec": {
   "display_name": "Python 3",
   "language": "python",
   "name": "python3"
  },
  "language_info": {
   "codemirror_mode": {
    "name": "ipython",
    "version": 3
   },
   "file_extension": ".py",
   "mimetype": "text/x-python",
   "name": "python",
   "nbconvert_exporter": "python",
   "pygments_lexer": "ipython3",
   "version": "3.5.1"
  }
 },
 "nbformat": 4,
 "nbformat_minor": 0
}
