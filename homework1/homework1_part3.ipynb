{
 "cells": [
  {
   "cell_type": "markdown",
   "metadata": {},
   "source": [
    "# PART THREE\n",
    "\n",
    "Using the scrabble data, reproduce the \"Nigel Richards's Performance at Nationals\" chart from FiveThirtyEight (minus the UFO bits). Build the basic chart from this dataframe:\n",
    "\n",
    "    points_df  = pd.read_csv(\"scrabble-point-spread.csv\")\n",
    "    tournament_df = pd.read_csv(\"scrabble-tournament.csv\")\n",
    "    df = tournament_df.merge(points_df, left_on='Player ID', right_on='player_id').fillna(0)\n",
    "    df.head()\n",
    "\n",
    "Hot tip: You might want to start with matplotlib using the fivethirtyeight style. Check this blog post for info on how to make arrows."
   ]
  },
  {
   "cell_type": "code",
   "execution_count": 1,
   "metadata": {
    "collapsed": false
   },
   "outputs": [
    {
     "name": "stderr",
     "output_type": "stream",
     "text": [
      "/Users/apple/.virtualenvs/data-analysis/lib/python3.5/site-packages/matplotlib/__init__.py:1035: UserWarning: Duplicate key in file \"/Users/apple/.matplotlib/matplotlibrc\", line #2\n",
      "  (fname, cnt))\n"
     ]
    }
   ],
   "source": [
    "import pandas as pd\n",
    "import matplotlib.pyplot as plt\n",
    "import numpy as np\n",
    "%matplotlib inline\n",
    "\n",
    "import matplotlib\n",
    "matplotlib.rcParams['pdf.fonttype']=42"
   ]
  },
  {
   "cell_type": "code",
   "execution_count": 2,
   "metadata": {
    "collapsed": false
   },
   "outputs": [
    {
     "data": {
      "text/html": [
       "<div>\n",
       "<table border=\"1\" class=\"dataframe\">\n",
       "  <thead>\n",
       "    <tr style=\"text-align: right;\">\n",
       "      <th></th>\n",
       "      <th>Byes</th>\n",
       "      <th>Credits</th>\n",
       "      <th>Losses</th>\n",
       "      <th>Name</th>\n",
       "      <th>New Rating</th>\n",
       "      <th>Old Rating</th>\n",
       "      <th>Other Money</th>\n",
       "      <th>Perf Rating</th>\n",
       "      <th>Place</th>\n",
       "      <th>Player ID</th>\n",
       "      <th>...</th>\n",
       "      <th>Seed</th>\n",
       "      <th>Spread</th>\n",
       "      <th>Ties</th>\n",
       "      <th>Tournament ID</th>\n",
       "      <th>Wins</th>\n",
       "      <th>division</th>\n",
       "      <th>player_id</th>\n",
       "      <th>points_against</th>\n",
       "      <th>points_for</th>\n",
       "      <th>tournament_id</th>\n",
       "    </tr>\n",
       "  </thead>\n",
       "  <tbody>\n",
       "    <tr>\n",
       "      <th>0</th>\n",
       "      <td>0.0</td>\n",
       "      <td>0.0</td>\n",
       "      <td>7</td>\n",
       "      <td>Nigel Richards</td>\n",
       "      <td>2196</td>\n",
       "      <td>2168.0</td>\n",
       "      <td>0</td>\n",
       "      <td>2356.0</td>\n",
       "      <td>1</td>\n",
       "      <td>6003</td>\n",
       "      <td>...</td>\n",
       "      <td>1</td>\n",
       "      <td>1934</td>\n",
       "      <td>0.0</td>\n",
       "      <td>8163</td>\n",
       "      <td>24</td>\n",
       "      <td>Division 1</td>\n",
       "      <td>6003</td>\n",
       "      <td>381</td>\n",
       "      <td>443</td>\n",
       "      <td>8163</td>\n",
       "    </tr>\n",
       "    <tr>\n",
       "      <th>1</th>\n",
       "      <td>0.0</td>\n",
       "      <td>0.0</td>\n",
       "      <td>7</td>\n",
       "      <td>Komol Panyasophonlert</td>\n",
       "      <td>2070</td>\n",
       "      <td>2002.0</td>\n",
       "      <td>0</td>\n",
       "      <td>2372.0</td>\n",
       "      <td>2</td>\n",
       "      <td>20749</td>\n",
       "      <td>...</td>\n",
       "      <td>11</td>\n",
       "      <td>1868</td>\n",
       "      <td>0.0</td>\n",
       "      <td>8163</td>\n",
       "      <td>24</td>\n",
       "      <td>Division 1</td>\n",
       "      <td>20749</td>\n",
       "      <td>375</td>\n",
       "      <td>435</td>\n",
       "      <td>8163</td>\n",
       "    </tr>\n",
       "    <tr>\n",
       "      <th>2</th>\n",
       "      <td>0.0</td>\n",
       "      <td>0.0</td>\n",
       "      <td>8</td>\n",
       "      <td>Will Anderson</td>\n",
       "      <td>2093</td>\n",
       "      <td>2054.0</td>\n",
       "      <td>0</td>\n",
       "      <td>2264.0</td>\n",
       "      <td>3</td>\n",
       "      <td>19535</td>\n",
       "      <td>...</td>\n",
       "      <td>2</td>\n",
       "      <td>1623</td>\n",
       "      <td>0.0</td>\n",
       "      <td>8163</td>\n",
       "      <td>23</td>\n",
       "      <td>Division 1</td>\n",
       "      <td>19535</td>\n",
       "      <td>391</td>\n",
       "      <td>443</td>\n",
       "      <td>8163</td>\n",
       "    </tr>\n",
       "    <tr>\n",
       "      <th>3</th>\n",
       "      <td>0.0</td>\n",
       "      <td>0.0</td>\n",
       "      <td>9</td>\n",
       "      <td>Noah Walton</td>\n",
       "      <td>2063</td>\n",
       "      <td>2015.0</td>\n",
       "      <td>0</td>\n",
       "      <td>2239.0</td>\n",
       "      <td>4</td>\n",
       "      <td>18474</td>\n",
       "      <td>...</td>\n",
       "      <td>8</td>\n",
       "      <td>1628</td>\n",
       "      <td>0.0</td>\n",
       "      <td>8163</td>\n",
       "      <td>22</td>\n",
       "      <td>Division 1</td>\n",
       "      <td>18474</td>\n",
       "      <td>386</td>\n",
       "      <td>439</td>\n",
       "      <td>8163</td>\n",
       "    </tr>\n",
       "    <tr>\n",
       "      <th>4</th>\n",
       "      <td>0.0</td>\n",
       "      <td>0.0</td>\n",
       "      <td>10</td>\n",
       "      <td>Kenji Matsumoto</td>\n",
       "      <td>2057</td>\n",
       "      <td>2023.0</td>\n",
       "      <td>0</td>\n",
       "      <td>2212.0</td>\n",
       "      <td>5</td>\n",
       "      <td>583</td>\n",
       "      <td>...</td>\n",
       "      <td>5</td>\n",
       "      <td>1671</td>\n",
       "      <td>0.0</td>\n",
       "      <td>8163</td>\n",
       "      <td>21</td>\n",
       "      <td>Division 1</td>\n",
       "      <td>583</td>\n",
       "      <td>396</td>\n",
       "      <td>450</td>\n",
       "      <td>8163</td>\n",
       "    </tr>\n",
       "  </tbody>\n",
       "</table>\n",
       "<p>5 rows × 21 columns</p>\n",
       "</div>"
      ],
      "text/plain": [
       "   Byes  Credits  Losses                   Name  New Rating  Old Rating  \\\n",
       "0   0.0      0.0       7         Nigel Richards        2196      2168.0   \n",
       "1   0.0      0.0       7  Komol Panyasophonlert        2070      2002.0   \n",
       "2   0.0      0.0       8          Will Anderson        2093      2054.0   \n",
       "3   0.0      0.0       9            Noah Walton        2063      2015.0   \n",
       "4   0.0      0.0      10        Kenji Matsumoto        2057      2023.0   \n",
       "\n",
       "  Other Money  Perf Rating  Place  Player ID      ...       Seed  Spread  \\\n",
       "0           0       2356.0      1       6003      ...          1    1934   \n",
       "1           0       2372.0      2      20749      ...         11    1868   \n",
       "2           0       2264.0      3      19535      ...          2    1623   \n",
       "3           0       2239.0      4      18474      ...          8    1628   \n",
       "4           0       2212.0      5        583      ...          5    1671   \n",
       "\n",
       "   Ties  Tournament ID  Wins    division player_id  points_against  \\\n",
       "0   0.0           8163    24  Division 1      6003             381   \n",
       "1   0.0           8163    24  Division 1     20749             375   \n",
       "2   0.0           8163    23  Division 1     19535             391   \n",
       "3   0.0           8163    22  Division 1     18474             386   \n",
       "4   0.0           8163    21  Division 1       583             396   \n",
       "\n",
       "   points_for  tournament_id  \n",
       "0         443           8163  \n",
       "1         435           8163  \n",
       "2         443           8163  \n",
       "3         439           8163  \n",
       "4         450           8163  \n",
       "\n",
       "[5 rows x 21 columns]"
      ]
     },
     "execution_count": 2,
     "metadata": {},
     "output_type": "execute_result"
    }
   ],
   "source": [
    "points_df  = pd.read_csv(\"scrabble-point-spread.csv\")\n",
    "tournament_df = pd.read_csv(\"scrabble-tournament.csv\")\n",
    "df = tournament_df.merge(points_df, left_on='Player ID', right_on='player_id').fillna(0)\n",
    "df.head()"
   ]
  },
  {
   "cell_type": "code",
   "execution_count": 73,
   "metadata": {
    "collapsed": false
   },
   "outputs": [],
   "source": [
    "df_topfifty = df.groupby('division').get_group('Division 1').sort_values(by='points_diff', ascending=False).head(50)"
   ]
  },
  {
   "cell_type": "code",
   "execution_count": 74,
   "metadata": {
    "collapsed": false
   },
   "outputs": [
    {
     "data": {
      "image/png": "[encoded data removed]",
      "text/plain": [
       "<matplotlib.figure.Figure at 0x1115594e0>"
      ]
     },
     "metadata": {},
     "output_type": "display_data"
    }
   ],
   "source": [
    "fig, ax = plt.subplots(figsize=(8,6))\n",
    "ax.plot(df_topfifty['points_for'], df_topfifty['points_against'], marker='o', linestyle='', markeredgewidth=0)\n",
    "ax.set_xlim([380, 460])\n",
    "ax.set_ylim([360, 420])\n",
    "ax.legend()\n",
    "\n",
    "plt.savefig(\"Richards.pdf\", transparent=True)"
   ]
  },
  {
   "cell_type": "code",
   "execution_count": null,
   "metadata": {
    "collapsed": true
   },
   "outputs": [],
   "source": []
  }
 ],
 "metadata": {
  "kernelspec": {
   "display_name": "Python 3",
   "language": "python",
   "name": "python3"
  },
  "language_info": {
   "codemirror_mode": {
    "name": "ipython",
    "version": 3
   },
   "file_extension": ".py",
   "mimetype": "text/x-python",
   "name": "python",
   "nbconvert_exporter": "python",
   "pygments_lexer": "ipython3",
   "version": "3.5.1"
  }
 },
 "nbformat": 4,
 "nbformat_minor": 0
}
